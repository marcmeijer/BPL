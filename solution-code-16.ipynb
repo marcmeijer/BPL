{
 "cells": [
  {
   "cell_type": "code",
   "execution_count": 1,
   "metadata": {
    "collapsed": true
   },
   "outputs": [],
   "source": [
    "import pandas as pd\n",
    "import numpy as np\n",
    "\n",
    "%matplotlib inline"
   ]
  },
  {
   "cell_type": "markdown",
   "metadata": {},
   "source": [
    "### Walmart Sales Data\n",
    "\n",
    "For the independent practice, we will analyze the weekly sales data from Walmart over a two year period from 2010 to 2012.\n",
    "\n",
    "The data is again separated by store and by department, but we will focus on analyzing one store for simplicity.\n",
    "\n",
    "The data includes:\n",
    "\n",
    "- Store - the store number\n",
    "- Dept - the department number\n",
    "- Date - the week\n",
    "- Weekly_Sales -  sales for the given department in the given store\n",
    "- IsHoliday - whether the week is a special holiday week\n"
   ]
  },
  {
   "cell_type": "markdown",
   "metadata": {},
   "source": [
    "#### Loading the data and setting the DateTimeIndex"
   ]
  },
  {
   "cell_type": "code",
   "execution_count": 2,
   "metadata": {},
   "outputs": [
    {
     "data": {
      "text/html": [
       "<div>\n",
       "<style>\n",
       "    .dataframe thead tr:only-child th {\n",
       "        text-align: right;\n",
       "    }\n",
       "\n",
       "    .dataframe thead th {\n",
       "        text-align: left;\n",
       "    }\n",
       "\n",
       "    .dataframe tbody tr th {\n",
       "        vertical-align: top;\n",
       "    }\n",
       "</style>\n",
       "<table border=\"1\" class=\"dataframe\">\n",
       "  <thead>\n",
       "    <tr style=\"text-align: right;\">\n",
       "      <th></th>\n",
       "      <th>Store</th>\n",
       "      <th>Dept</th>\n",
       "      <th>Weekly_Sales</th>\n",
       "      <th>IsHoliday</th>\n",
       "    </tr>\n",
       "    <tr>\n",
       "      <th>Date</th>\n",
       "      <th></th>\n",
       "      <th></th>\n",
       "      <th></th>\n",
       "      <th></th>\n",
       "    </tr>\n",
       "  </thead>\n",
       "  <tbody>\n",
       "    <tr>\n",
       "      <th>2010-02-05</th>\n",
       "      <td>1</td>\n",
       "      <td>1</td>\n",
       "      <td>24924.50</td>\n",
       "      <td>False</td>\n",
       "    </tr>\n",
       "    <tr>\n",
       "      <th>2010-02-12</th>\n",
       "      <td>1</td>\n",
       "      <td>1</td>\n",
       "      <td>46039.49</td>\n",
       "      <td>True</td>\n",
       "    </tr>\n",
       "    <tr>\n",
       "      <th>2010-02-19</th>\n",
       "      <td>1</td>\n",
       "      <td>1</td>\n",
       "      <td>41595.55</td>\n",
       "      <td>False</td>\n",
       "    </tr>\n",
       "    <tr>\n",
       "      <th>2010-02-26</th>\n",
       "      <td>1</td>\n",
       "      <td>1</td>\n",
       "      <td>19403.54</td>\n",
       "      <td>False</td>\n",
       "    </tr>\n",
       "    <tr>\n",
       "      <th>2010-03-05</th>\n",
       "      <td>1</td>\n",
       "      <td>1</td>\n",
       "      <td>21827.90</td>\n",
       "      <td>False</td>\n",
       "    </tr>\n",
       "  </tbody>\n",
       "</table>\n",
       "</div>"
      ],
      "text/plain": [
       "            Store  Dept  Weekly_Sales  IsHoliday\n",
       "Date                                            \n",
       "2010-02-05      1     1      24924.50      False\n",
       "2010-02-12      1     1      46039.49       True\n",
       "2010-02-19      1     1      41595.55      False\n",
       "2010-02-26      1     1      19403.54      False\n",
       "2010-03-05      1     1      21827.90      False"
      ]
     },
     "execution_count": 2,
     "metadata": {},
     "output_type": "execute_result"
    }
   ],
   "source": [
    "data = pd.read_csv('assets/dataset/train.csv')\n",
    "data['Date'] = pd.to_datetime(data['Date'])\n",
    "data.set_index('Date', inplace=True)\n",
    "data.head()"
   ]
  },
  {
   "cell_type": "markdown",
   "metadata": {},
   "source": [
    "#### Filter the dataframe to Store 1 sales and aggregate over departments to compute the total sales per store."
   ]
  },
  {
   "cell_type": "code",
   "execution_count": 3,
   "metadata": {},
   "outputs": [
    {
     "name": "stderr",
     "output_type": "stream",
     "text": [
      "/Users/ebola/anaconda/lib/python2.7/site-packages/ipykernel_launcher.py:2: FutureWarning: how in .resample() is deprecated\n",
      "the new syntax is .resample(...).sum()\n",
      "  \n"
     ]
    },
    {
     "data": {
      "text/html": [
       "<div>\n",
       "<style>\n",
       "    .dataframe thead tr:only-child th {\n",
       "        text-align: right;\n",
       "    }\n",
       "\n",
       "    .dataframe thead th {\n",
       "        text-align: left;\n",
       "    }\n",
       "\n",
       "    .dataframe tbody tr th {\n",
       "        vertical-align: top;\n",
       "    }\n",
       "</style>\n",
       "<table border=\"1\" class=\"dataframe\">\n",
       "  <thead>\n",
       "    <tr style=\"text-align: right;\">\n",
       "      <th></th>\n",
       "      <th>Weekly_Sales</th>\n",
       "    </tr>\n",
       "    <tr>\n",
       "      <th>Date</th>\n",
       "      <th></th>\n",
       "    </tr>\n",
       "  </thead>\n",
       "  <tbody>\n",
       "    <tr>\n",
       "      <th>2010-02-07</th>\n",
       "      <td>1643690.90</td>\n",
       "    </tr>\n",
       "    <tr>\n",
       "      <th>2010-02-14</th>\n",
       "      <td>1641957.44</td>\n",
       "    </tr>\n",
       "    <tr>\n",
       "      <th>2010-02-21</th>\n",
       "      <td>1611968.17</td>\n",
       "    </tr>\n",
       "    <tr>\n",
       "      <th>2010-02-28</th>\n",
       "      <td>1409727.59</td>\n",
       "    </tr>\n",
       "    <tr>\n",
       "      <th>2010-03-07</th>\n",
       "      <td>1554806.68</td>\n",
       "    </tr>\n",
       "  </tbody>\n",
       "</table>\n",
       "</div>"
      ],
      "text/plain": [
       "            Weekly_Sales\n",
       "Date                    \n",
       "2010-02-07    1643690.90\n",
       "2010-02-14    1641957.44\n",
       "2010-02-21    1611968.17\n",
       "2010-02-28    1409727.59\n",
       "2010-03-07    1554806.68"
      ]
     },
     "execution_count": 3,
     "metadata": {},
     "output_type": "execute_result"
    }
   ],
   "source": [
    "# Filter to store 1 sales and average over weeks\n",
    "store1_sales = data[data.Store == 1][['Weekly_Sales']].resample('W', 'sum')\n",
    "store1_sales.head()"
   ]
  },
  {
   "cell_type": "markdown",
   "metadata": {},
   "source": [
    "#### Plot the rolling_mean for `Weekly_Sales`. What general trends do you observe?"
   ]
  },
  {
   "cell_type": "code",
   "execution_count": 4,
   "metadata": {},
   "outputs": [
    {
     "name": "stderr",
     "output_type": "stream",
     "text": [
      "/Users/ebola/anaconda/lib/python2.7/site-packages/ipykernel_launcher.py:1: FutureWarning: pd.rolling_mean is deprecated for DataFrame and will be removed in a future version, replace with \n",
      "\tDataFrame.rolling(window=3,center=False).mean()\n",
      "  \"\"\"Entry point for launching an IPython kernel.\n"
     ]
    },
    {
     "data": {
      "text/plain": [
       "<matplotlib.axes._subplots.AxesSubplot at 0x10c40c550>"
      ]
     },
     "execution_count": 4,
     "metadata": {},
     "output_type": "execute_result"
    },
    {
     "data": {
      "image/png": "[encoded data removed]",
      "text/plain": [
       "<matplotlib.figure.Figure at 0x10c364c90>"
      ]
     },
     "metadata": {},
     "output_type": "display_data"
    }
   ],
   "source": [
    "pd.rolling_mean(store1_sales[['Weekly_Sales']], 3).plot()"
   ]
  },
  {
   "cell_type": "markdown",
   "metadata": {
    "collapsed": true
   },
   "source": [
    "#### Compute the 1, 2, 52 autocorrelations for `Weekly_Sales` and/or create an autocorrelation plot."
   ]
  },
  {
   "cell_type": "code",
   "execution_count": 5,
   "metadata": {},
   "outputs": [
    {
     "name": "stdout",
     "output_type": "stream",
     "text": [
      "('Autocorrelation 1: ', 0.30215827941131257)\n",
      "('Autocorrelation 3: ', 0.059799235066717041)\n",
      "('Autocorrelation 52: ', 0.89537602947770079)\n"
     ]
    }
   ],
   "source": [
    "print('Autocorrelation 1: ', store1_sales['Weekly_Sales'].autocorr(1))\n",
    "print('Autocorrelation 3: ', store1_sales['Weekly_Sales'].autocorr(3))\n",
    "print('Autocorrelation 52: ', store1_sales['Weekly_Sales'].autocorr(52))"
   ]
  },
  {
   "cell_type": "code",
   "execution_count": 6,
   "metadata": {},
   "outputs": [
    {
     "name": "stderr",
     "output_type": "stream",
     "text": [
      "/Users/ebola/anaconda/lib/python2.7/site-packages/ipykernel_launcher.py:3: FutureWarning: 'pandas.tools.plotting.autocorrelation_plot' is deprecated, import 'pandas.plotting.autocorrelation_plot' instead.\n",
      "  This is separate from the ipykernel package so we can avoid doing imports until\n"
     ]
    },
    {
     "data": {
      "text/plain": [
       "<matplotlib.axes._subplots.AxesSubplot at 0x10c364a50>"
      ]
     },
     "execution_count": 6,
     "metadata": {},
     "output_type": "execute_result"
    },
    {
     "data": {
      "image/png": "[encoded data removed]",
      "text/plain": [
       "<matplotlib.figure.Figure at 0x10c6df490>"
      ]
     },
     "metadata": {},
     "output_type": "display_data"
    }
   ],
   "source": [
    "from pandas.tools.plotting import autocorrelation_plot\n",
    "\n",
    "autocorrelation_plot(store1_sales['Weekly_Sales'])"
   ]
  },
  {
   "cell_type": "code",
   "execution_count": 8,
   "metadata": {},
   "outputs": [
    {
     "data": {
      "image/png": "[encoded data removed]",
      "text/plain": [
       "<matplotlib.figure.Figure at 0x110bf4350>"
      ]
     },
     "execution_count": 8,
     "metadata": {},
     "output_type": "execute_result"
    },
    {
     "data": {
      "image/png": "[encoded data removed]",
      "text/plain": [
       "<matplotlib.figure.Figure at 0x110bf4350>"
      ]
     },
     "metadata": {},
     "output_type": "display_data"
    }
   ],
   "source": [
    "from statsmodels.graphics.tsaplots import plot_acf\n",
    "\n",
    "plot_acf(store1_sales['Weekly_Sales'], lags=60)\n",
    "\n",
    "# Components 1 and 2 seem particularly useful for autoregression, perhaps up to 4\n",
    "# In the plot above notice, spike at around 52 - implying a yearly pattern as well\n",
    "# No random spikes, probably not much use for a moving average model"
   ]
  },
  {
   "cell_type": "markdown",
   "metadata": {},
   "source": [
    "#### Split the weekly sales data in a training and test set - using 75% of the data for training"
   ]
  },
  {
   "cell_type": "code",
   "execution_count": 9,
   "metadata": {
    "collapsed": true
   },
   "outputs": [],
   "source": [
    "n = len(store1_sales.Weekly_Sales)\n",
    "\n",
    "train = store1_sales.Weekly_Sales[:int(.75*n)]\n",
    "test = store1_sales.Weekly_Sales[int(.75*n):]"
   ]
  },
  {
   "cell_type": "code",
   "execution_count": 11,
   "metadata": {},
   "outputs": [
    {
     "data": {
      "text/plain": [
       "Date\n",
       "2012-02-26    1539387.83\n",
       "2012-03-04    1688420.76\n",
       "2012-03-11    1675431.16\n",
       "2012-03-18    1677472.78\n",
       "2012-03-25    1511068.07\n",
       "Freq: W-SUN, Name: Weekly_Sales, dtype: float64"
      ]
     },
     "execution_count": 11,
     "metadata": {},
     "output_type": "execute_result"
    }
   ],
   "source": [
    "test.head(5)"
   ]
  },
  {
   "cell_type": "code",
   "execution_count": 13,
   "metadata": {},
   "outputs": [
    {
     "data": {
      "text/plain": [
       "Date\n",
       "2012-09-30    1437059.26\n",
       "2012-10-07    1670785.97\n",
       "2012-10-14    1573072.81\n",
       "2012-10-21    1508068.77\n",
       "2012-10-28    1493659.74\n",
       "Freq: W-SUN, Name: Weekly_Sales, dtype: float64"
      ]
     },
     "execution_count": 13,
     "metadata": {},
     "output_type": "execute_result"
    }
   ],
   "source": [
    "test.tail(5)"
   ]
  },
  {
   "cell_type": "markdown",
   "metadata": {},
   "source": [
    "#### Create an AR(1) model on the training data and compute the mean absolute error of the predictions."
   ]
  },
  {
   "cell_type": "code",
   "execution_count": 10,
   "metadata": {
    "collapsed": true
   },
   "outputs": [],
   "source": [
    "import statsmodels.api as sm\n",
    "from sklearn.metrics import mean_absolute_error"
   ]
  },
  {
   "cell_type": "code",
   "execution_count": 12,
   "metadata": {},
   "outputs": [
    {
     "name": "stdout",
     "output_type": "stream",
     "text": [
      "('Mean absolute error: ', 81839.338631623992)\n"
     ]
    },
    {
     "data": {
      "text/html": [
       "<table class=\"simpletable\">\n",
       "<caption>ARMA Model Results</caption>\n",
       "<tr>\n",
       "  <th>Dep. Variable:</th>   <td>Weekly_Sales</td>   <th>  No. Observations:  </th>     <td>107</td>   \n",
       "</tr>\n",
       "<tr>\n",
       "  <th>Model:</th>            <td>ARMA(1, 0)</td>    <th>  Log Likelihood     </th>  <td>-1434.663</td>\n",
       "</tr>\n",
       "<tr>\n",
       "  <th>Method:</th>             <td>css-mle</td>     <th>  S.D. of innovations</th> <td>160916.939</td>\n",
       "</tr>\n",
       "<tr>\n",
       "  <th>Date:</th>          <td>Mon, 22 Jan 2018</td> <th>  AIC                </th>  <td>2875.327</td> \n",
       "</tr>\n",
       "<tr>\n",
       "  <th>Time:</th>              <td>09:40:48</td>     <th>  BIC                </th>  <td>2883.345</td> \n",
       "</tr>\n",
       "<tr>\n",
       "  <th>Sample:</th>           <td>02-07-2010</td>    <th>  HQIC               </th>  <td>2878.577</td> \n",
       "</tr>\n",
       "<tr>\n",
       "  <th></th>                 <td>- 02-19-2012</td>   <th>                     </th>      <td> </td>    \n",
       "</tr>\n",
       "</table>\n",
       "<table class=\"simpletable\">\n",
       "<tr>\n",
       "           <td></td>             <th>coef</th>     <th>std err</th>      <th>z</th>      <th>P>|z|</th>  <th>[0.025</th>    <th>0.975]</th>  \n",
       "</tr>\n",
       "<tr>\n",
       "  <th>const</th>              <td> 1.544e+06</td> <td> 2.26e+04</td> <td>   68.293</td> <td> 0.000</td> <td>  1.5e+06</td> <td> 1.59e+06</td>\n",
       "</tr>\n",
       "<tr>\n",
       "  <th>ar.L1.Weekly_Sales</th> <td>    0.3147</td> <td>    0.093</td> <td>    3.399</td> <td> 0.001</td> <td>    0.133</td> <td>    0.496</td>\n",
       "</tr>\n",
       "</table>\n",
       "<table class=\"simpletable\">\n",
       "<caption>Roots</caption>\n",
       "<tr>\n",
       "    <td></td>   <th>           Real</th> <th>         Imaginary</th> <th>         Modulus</th> <th>        Frequency</th>\n",
       "</tr>\n",
       "<tr>\n",
       "  <th>AR.1</th>               3.1779                    +0.0000j                    3.1779                    0.0000     \n",
       "</tr>\n",
       "</table>"
      ],
      "text/plain": [
       "<class 'statsmodels.iolib.summary.Summary'>\n",
       "\"\"\"\n",
       "                              ARMA Model Results                              \n",
       "==============================================================================\n",
       "Dep. Variable:           Weekly_Sales   No. Observations:                  107\n",
       "Model:                     ARMA(1, 0)   Log Likelihood               -1434.663\n",
       "Method:                       css-mle   S.D. of innovations         160916.939\n",
       "Date:                Mon, 22 Jan 2018   AIC                           2875.327\n",
       "Time:                        09:40:48   BIC                           2883.345\n",
       "Sample:                    02-07-2010   HQIC                          2878.577\n",
       "                         - 02-19-2012                                         \n",
       "======================================================================================\n",
       "                         coef    std err          z      P>|z|      [0.025      0.975]\n",
       "--------------------------------------------------------------------------------------\n",
       "const               1.544e+06   2.26e+04     68.293      0.000     1.5e+06    1.59e+06\n",
       "ar.L1.Weekly_Sales     0.3147      0.093      3.399      0.001       0.133       0.496\n",
       "                                    Roots                                    \n",
       "=============================================================================\n",
       "                 Real           Imaginary           Modulus         Frequency\n",
       "-----------------------------------------------------------------------------\n",
       "AR.1            3.1779           +0.0000j            3.1779            0.0000\n",
       "-----------------------------------------------------------------------------\n",
       "\"\"\""
      ]
     },
     "execution_count": 12,
     "metadata": {},
     "output_type": "execute_result"
    }
   ],
   "source": [
    "model = sm.tsa.ARIMA(train, (1, 0, 0)).fit()\n",
    "\n",
    "predictions = model.predict(\n",
    "    '2012-02-27',\n",
    "    '2012-10-29',\n",
    "    dynamic=True, \n",
    ")\n",
    "\n",
    "print(\"Mean absolute error: \", mean_absolute_error(test, predictions))\n",
    "model.summary()"
   ]
  },
  {
   "cell_type": "markdown",
   "metadata": {},
   "source": [
    "#### Plot the residuals - where are their significant errors."
   ]
  },
  {
   "cell_type": "code",
   "execution_count": 14,
   "metadata": {},
   "outputs": [
    {
     "data": {
      "text/plain": [
       "<matplotlib.axes._subplots.AxesSubplot at 0x111444f10>"
      ]
     },
     "execution_count": 14,
     "metadata": {},
     "output_type": "execute_result"
    },
    {
     "data": {
      "image/png": "[encoded data removed]",
      "text/plain": [
       "<matplotlib.figure.Figure at 0x1113b2ed0>"
      ]
     },
     "metadata": {},
     "output_type": "display_data"
    }
   ],
   "source": [
    "model.resid.plot()"
   ]
  },
  {
   "cell_type": "code",
   "execution_count": 16,
   "metadata": {},
   "outputs": [
    {
     "data": {
      "image/png": "[encoded data removed]",
      "text/plain": [
       "<matplotlib.figure.Figure at 0x11175cb10>"
      ]
     },
     "execution_count": 16,
     "metadata": {},
     "output_type": "execute_result"
    },
    {
     "data": {
      "image/png": "[encoded data removed]",
      "text/plain": [
       "<matplotlib.figure.Figure at 0x11175cb10>"
      ]
     },
     "metadata": {},
     "output_type": "display_data"
    }
   ],
   "source": [
    "plot_acf(model.resid, lags=60)"
   ]
  },
  {
   "cell_type": "markdown",
   "metadata": {},
   "source": [
    "#### Compute and AR(2) model and an ARMA(2, 2) model - does this improve your mean absolute error on the held out set."
   ]
  },
  {
   "cell_type": "code",
   "execution_count": 17,
   "metadata": {},
   "outputs": [
    {
     "name": "stdout",
     "output_type": "stream",
     "text": [
      "('Mean absolute error: ', 81203.239354419813)\n"
     ]
    },
    {
     "data": {
      "text/html": [
       "<table class=\"simpletable\">\n",
       "<caption>ARMA Model Results</caption>\n",
       "<tr>\n",
       "  <th>Dep. Variable:</th>   <td>Weekly_Sales</td>   <th>  No. Observations:  </th>     <td>107</td>   \n",
       "</tr>\n",
       "<tr>\n",
       "  <th>Model:</th>            <td>ARMA(2, 0)</td>    <th>  Log Likelihood     </th>  <td>-1434.482</td>\n",
       "</tr>\n",
       "<tr>\n",
       "  <th>Method:</th>             <td>css-mle</td>     <th>  S.D. of innovations</th> <td>160638.038</td>\n",
       "</tr>\n",
       "<tr>\n",
       "  <th>Date:</th>          <td>Mon, 22 Jan 2018</td> <th>  AIC                </th>  <td>2876.963</td> \n",
       "</tr>\n",
       "<tr>\n",
       "  <th>Time:</th>              <td>10:39:49</td>     <th>  BIC                </th>  <td>2887.655</td> \n",
       "</tr>\n",
       "<tr>\n",
       "  <th>Sample:</th>           <td>02-07-2010</td>    <th>  HQIC               </th>  <td>2881.298</td> \n",
       "</tr>\n",
       "<tr>\n",
       "  <th></th>                 <td>- 02-19-2012</td>   <th>                     </th>      <td> </td>    \n",
       "</tr>\n",
       "</table>\n",
       "<table class=\"simpletable\">\n",
       "<tr>\n",
       "           <td></td>             <th>coef</th>     <th>std err</th>      <th>z</th>      <th>P>|z|</th>  <th>[0.025</th>    <th>0.975]</th>  \n",
       "</tr>\n",
       "<tr>\n",
       "  <th>const</th>              <td> 1.544e+06</td> <td>  2.4e+04</td> <td>   64.349</td> <td> 0.000</td> <td>  1.5e+06</td> <td> 1.59e+06</td>\n",
       "</tr>\n",
       "<tr>\n",
       "  <th>ar.L1.Weekly_Sales</th> <td>    0.2974</td> <td>    0.097</td> <td>    3.075</td> <td> 0.003</td> <td>    0.108</td> <td>    0.487</td>\n",
       "</tr>\n",
       "<tr>\n",
       "  <th>ar.L2.Weekly_Sales</th> <td>    0.0589</td> <td>    0.098</td> <td>    0.603</td> <td> 0.548</td> <td>   -0.132</td> <td>    0.250</td>\n",
       "</tr>\n",
       "</table>\n",
       "<table class=\"simpletable\">\n",
       "<caption>Roots</caption>\n",
       "<tr>\n",
       "    <td></td>   <th>           Real</th> <th>         Imaginary</th> <th>         Modulus</th> <th>        Frequency</th>\n",
       "</tr>\n",
       "<tr>\n",
       "  <th>AR.1</th>               2.3080                    +0.0000j                    2.3080                    0.0000     \n",
       "</tr>\n",
       "<tr>\n",
       "  <th>AR.2</th>              -7.3588                    +0.0000j                    7.3588                    0.5000     \n",
       "</tr>\n",
       "</table>"
      ],
      "text/plain": [
       "<class 'statsmodels.iolib.summary.Summary'>\n",
       "\"\"\"\n",
       "                              ARMA Model Results                              \n",
       "==============================================================================\n",
       "Dep. Variable:           Weekly_Sales   No. Observations:                  107\n",
       "Model:                     ARMA(2, 0)   Log Likelihood               -1434.482\n",
       "Method:                       css-mle   S.D. of innovations         160638.038\n",
       "Date:                Mon, 22 Jan 2018   AIC                           2876.963\n",
       "Time:                        10:39:49   BIC                           2887.655\n",
       "Sample:                    02-07-2010   HQIC                          2881.298\n",
       "                         - 02-19-2012                                         \n",
       "======================================================================================\n",
       "                         coef    std err          z      P>|z|      [0.025      0.975]\n",
       "--------------------------------------------------------------------------------------\n",
       "const               1.544e+06    2.4e+04     64.349      0.000     1.5e+06    1.59e+06\n",
       "ar.L1.Weekly_Sales     0.2974      0.097      3.075      0.003       0.108       0.487\n",
       "ar.L2.Weekly_Sales     0.0589      0.098      0.603      0.548      -0.132       0.250\n",
       "                                    Roots                                    \n",
       "=============================================================================\n",
       "                 Real           Imaginary           Modulus         Frequency\n",
       "-----------------------------------------------------------------------------\n",
       "AR.1            2.3080           +0.0000j            2.3080            0.0000\n",
       "AR.2           -7.3588           +0.0000j            7.3588            0.5000\n",
       "-----------------------------------------------------------------------------\n",
       "\"\"\""
      ]
     },
     "execution_count": 17,
     "metadata": {},
     "output_type": "execute_result"
    }
   ],
   "source": [
    "model = sm.tsa.ARIMA(train, (2, 0, 0)).fit()\n",
    "\n",
    "predictions = model.predict(\n",
    "    '2012-02-27',\n",
    "    '2012-10-29',\n",
    "    dynamic=True, \n",
    ")\n",
    "\n",
    "print(\"Mean absolute error: \", mean_absolute_error(test, predictions))\n",
    "model.summary()"
   ]
  },
  {
   "cell_type": "code",
   "execution_count": 18,
   "metadata": {},
   "outputs": [
    {
     "name": "stdout",
     "output_type": "stream",
     "text": [
      "('Mean absolute error: ', 80503.285915179207)\n"
     ]
    },
    {
     "data": {
      "text/html": [
       "<table class=\"simpletable\">\n",
       "<caption>ARMA Model Results</caption>\n",
       "<tr>\n",
       "  <th>Dep. Variable:</th>   <td>Weekly_Sales</td>   <th>  No. Observations:  </th>     <td>107</td>   \n",
       "</tr>\n",
       "<tr>\n",
       "  <th>Model:</th>            <td>ARMA(2, 2)</td>    <th>  Log Likelihood     </th>  <td>-1425.781</td>\n",
       "</tr>\n",
       "<tr>\n",
       "  <th>Method:</th>             <td>css-mle</td>     <th>  S.D. of innovations</th> <td>144107.974</td>\n",
       "</tr>\n",
       "<tr>\n",
       "  <th>Date:</th>          <td>Mon, 22 Jan 2018</td> <th>  AIC                </th>  <td>2863.563</td> \n",
       "</tr>\n",
       "<tr>\n",
       "  <th>Time:</th>              <td>10:40:30</td>     <th>  BIC                </th>  <td>2879.600</td> \n",
       "</tr>\n",
       "<tr>\n",
       "  <th>Sample:</th>           <td>02-07-2010</td>    <th>  HQIC               </th>  <td>2870.064</td> \n",
       "</tr>\n",
       "<tr>\n",
       "  <th></th>                 <td>- 02-19-2012</td>   <th>                     </th>      <td> </td>    \n",
       "</tr>\n",
       "</table>\n",
       "<table class=\"simpletable\">\n",
       "<tr>\n",
       "           <td></td>             <th>coef</th>     <th>std err</th>      <th>z</th>      <th>P>|z|</th>  <th>[0.025</th>    <th>0.975]</th>  \n",
       "</tr>\n",
       "<tr>\n",
       "  <th>const</th>              <td> 1.544e+06</td> <td> 1.92e+04</td> <td>   80.320</td> <td> 0.000</td> <td> 1.51e+06</td> <td> 1.58e+06</td>\n",
       "</tr>\n",
       "<tr>\n",
       "  <th>ar.L1.Weekly_Sales</th> <td>   -1.0398</td> <td>    0.090</td> <td>  -11.583</td> <td> 0.000</td> <td>   -1.216</td> <td>   -0.864</td>\n",
       "</tr>\n",
       "<tr>\n",
       "  <th>ar.L2.Weekly_Sales</th> <td>   -0.4701</td> <td>    0.087</td> <td>   -5.380</td> <td> 0.000</td> <td>   -0.641</td> <td>   -0.299</td>\n",
       "</tr>\n",
       "<tr>\n",
       "  <th>ma.L1.Weekly_Sales</th> <td>    1.4692</td> <td>    0.058</td> <td>   25.368</td> <td> 0.000</td> <td>    1.356</td> <td>    1.583</td>\n",
       "</tr>\n",
       "<tr>\n",
       "  <th>ma.L2.Weekly_Sales</th> <td>    0.9999</td> <td>    0.074</td> <td>   13.532</td> <td> 0.000</td> <td>    0.855</td> <td>    1.145</td>\n",
       "</tr>\n",
       "</table>\n",
       "<table class=\"simpletable\">\n",
       "<caption>Roots</caption>\n",
       "<tr>\n",
       "    <td></td>   <th>           Real</th> <th>         Imaginary</th> <th>         Modulus</th> <th>        Frequency</th>\n",
       "</tr>\n",
       "<tr>\n",
       "  <th>AR.1</th>              -1.1059                    -0.9509j                    1.4585                   -0.3870     \n",
       "</tr>\n",
       "<tr>\n",
       "  <th>AR.2</th>              -1.1059                    +0.9509j                    1.4585                    0.3870     \n",
       "</tr>\n",
       "<tr>\n",
       "  <th>MA.1</th>              -0.7347                    -0.6785j                    1.0001                   -0.3813     \n",
       "</tr>\n",
       "<tr>\n",
       "  <th>MA.2</th>              -0.7347                    +0.6785j                    1.0001                    0.3813     \n",
       "</tr>\n",
       "</table>"
      ],
      "text/plain": [
       "<class 'statsmodels.iolib.summary.Summary'>\n",
       "\"\"\"\n",
       "                              ARMA Model Results                              \n",
       "==============================================================================\n",
       "Dep. Variable:           Weekly_Sales   No. Observations:                  107\n",
       "Model:                     ARMA(2, 2)   Log Likelihood               -1425.781\n",
       "Method:                       css-mle   S.D. of innovations         144107.974\n",
       "Date:                Mon, 22 Jan 2018   AIC                           2863.563\n",
       "Time:                        10:40:30   BIC                           2879.600\n",
       "Sample:                    02-07-2010   HQIC                          2870.064\n",
       "                         - 02-19-2012                                         \n",
       "======================================================================================\n",
       "                         coef    std err          z      P>|z|      [0.025      0.975]\n",
       "--------------------------------------------------------------------------------------\n",
       "const               1.544e+06   1.92e+04     80.320      0.000    1.51e+06    1.58e+06\n",
       "ar.L1.Weekly_Sales    -1.0398      0.090    -11.583      0.000      -1.216      -0.864\n",
       "ar.L2.Weekly_Sales    -0.4701      0.087     -5.380      0.000      -0.641      -0.299\n",
       "ma.L1.Weekly_Sales     1.4692      0.058     25.368      0.000       1.356       1.583\n",
       "ma.L2.Weekly_Sales     0.9999      0.074     13.532      0.000       0.855       1.145\n",
       "                                    Roots                                    \n",
       "=============================================================================\n",
       "                 Real           Imaginary           Modulus         Frequency\n",
       "-----------------------------------------------------------------------------\n",
       "AR.1           -1.1059           -0.9509j            1.4585           -0.3870\n",
       "AR.2           -1.1059           +0.9509j            1.4585            0.3870\n",
       "MA.1           -0.7347           -0.6785j            1.0001           -0.3813\n",
       "MA.2           -0.7347           +0.6785j            1.0001            0.3813\n",
       "-----------------------------------------------------------------------------\n",
       "\"\"\""
      ]
     },
     "execution_count": 18,
     "metadata": {},
     "output_type": "execute_result"
    }
   ],
   "source": [
    "model = sm.tsa.ARIMA(train, (2, 0, 2)).fit()\n",
    "\n",
    "predictions = model.predict(\n",
    "    '2012-02-27',\n",
    "    '2012-10-29',\n",
    "    dynamic=True, \n",
    ")\n",
    "\n",
    "print(\"Mean absolute error: \", mean_absolute_error(test, predictions))\n",
    "model.summary()"
   ]
  },
  {
   "cell_type": "markdown",
   "metadata": {},
   "source": [
    "#### Finally, compute an ARIMA model to improve your prediction error - iterate on the p, q, and parameters comparing the model's performance."
   ]
  },
  {
   "cell_type": "code",
   "execution_count": 19,
   "metadata": {},
   "outputs": [
    {
     "name": "stdout",
     "output_type": "stream",
     "text": [
      "('Mean absolute error: ', 77779.751281505902)\n"
     ]
    },
    {
     "name": "stderr",
     "output_type": "stream",
     "text": [
      "/Users/ebola/anaconda/lib/python2.7/site-packages/statsmodels/base/model.py:473: HessianInversionWarning: Inverting hessian failed, no bse or cov_params available\n",
      "  'available', HessianInversionWarning)\n",
      "/Users/ebola/anaconda/lib/python2.7/site-packages/statsmodels/base/model.py:496: ConvergenceWarning: Maximum Likelihood optimization failed to converge. Check mle_retvals\n",
      "  \"Check mle_retvals\", ConvergenceWarning)\n"
     ]
    },
    {
     "data": {
      "text/html": [
       "<table class=\"simpletable\">\n",
       "<caption>ARIMA Model Results</caption>\n",
       "<tr>\n",
       "  <th>Dep. Variable:</th>  <td>D.Weekly_Sales</td>  <th>  No. Observations:  </th>     <td>106</td>   \n",
       "</tr>\n",
       "<tr>\n",
       "  <th>Model:</th>          <td>ARIMA(2, 1, 3)</td>  <th>  Log Likelihood     </th>  <td>-1413.628</td>\n",
       "</tr>\n",
       "<tr>\n",
       "  <th>Method:</th>             <td>css-mle</td>     <th>  S.D. of innovations</th> <td>142936.829</td>\n",
       "</tr>\n",
       "<tr>\n",
       "  <th>Date:</th>          <td>Mon, 22 Jan 2018</td> <th>  AIC                </th>  <td>2841.256</td> \n",
       "</tr>\n",
       "<tr>\n",
       "  <th>Time:</th>              <td>10:43:38</td>     <th>  BIC                </th>  <td>2859.900</td> \n",
       "</tr>\n",
       "<tr>\n",
       "  <th>Sample:</th>           <td>02-14-2010</td>    <th>  HQIC               </th>  <td>2848.812</td> \n",
       "</tr>\n",
       "<tr>\n",
       "  <th></th>                 <td>- 02-19-2012</td>   <th>                     </th>      <td> </td>    \n",
       "</tr>\n",
       "</table>\n",
       "<table class=\"simpletable\">\n",
       "<tr>\n",
       "            <td></td>              <th>coef</th>     <th>std err</th>      <th>z</th>      <th>P>|z|</th>  <th>[0.025</th>    <th>0.975]</th>  \n",
       "</tr>\n",
       "<tr>\n",
       "  <th>const</th>                <td>  573.8008</td> <td>  621.559</td> <td>    0.923</td> <td> 0.358</td> <td> -644.432</td> <td> 1792.034</td>\n",
       "</tr>\n",
       "<tr>\n",
       "  <th>ar.L1.D.Weekly_Sales</th> <td>   -1.0486</td> <td>    0.090</td> <td>  -11.614</td> <td> 0.000</td> <td>   -1.226</td> <td>   -0.872</td>\n",
       "</tr>\n",
       "<tr>\n",
       "  <th>ar.L2.D.Weekly_Sales</th> <td>   -0.4790</td> <td>    0.088</td> <td>   -5.453</td> <td> 0.000</td> <td>   -0.651</td> <td>   -0.307</td>\n",
       "</tr>\n",
       "<tr>\n",
       "  <th>ma.L1.D.Weekly_Sales</th> <td>    0.4693</td> <td>    0.124</td> <td>    3.788</td> <td> 0.000</td> <td>    0.226</td> <td>    0.712</td>\n",
       "</tr>\n",
       "<tr>\n",
       "  <th>ma.L2.D.Weekly_Sales</th> <td>   -0.4693</td> <td>    0.165</td> <td>   -2.841</td> <td> 0.005</td> <td>   -0.793</td> <td>   -0.146</td>\n",
       "</tr>\n",
       "<tr>\n",
       "  <th>ma.L3.D.Weekly_Sales</th> <td>   -1.0000</td> <td>    0.131</td> <td>   -7.626</td> <td> 0.000</td> <td>   -1.257</td> <td>   -0.743</td>\n",
       "</tr>\n",
       "</table>\n",
       "<table class=\"simpletable\">\n",
       "<caption>Roots</caption>\n",
       "<tr>\n",
       "    <td></td>   <th>           Real</th> <th>         Imaginary</th> <th>         Modulus</th> <th>        Frequency</th>\n",
       "</tr>\n",
       "<tr>\n",
       "  <th>AR.1</th>              -1.0947                    -0.9431j                    1.4449                   -0.3868     \n",
       "</tr>\n",
       "<tr>\n",
       "  <th>AR.2</th>              -1.0947                    +0.9431j                    1.4449                    0.3868     \n",
       "</tr>\n",
       "<tr>\n",
       "  <th>MA.1</th>               1.0000                    -0.0000j                    1.0000                   -0.0000     \n",
       "</tr>\n",
       "<tr>\n",
       "  <th>MA.2</th>              -0.7347                    -0.6784j                    1.0000                   -0.3813     \n",
       "</tr>\n",
       "<tr>\n",
       "  <th>MA.3</th>              -0.7347                    +0.6784j                    1.0000                    0.3813     \n",
       "</tr>\n",
       "</table>"
      ],
      "text/plain": [
       "<class 'statsmodels.iolib.summary.Summary'>\n",
       "\"\"\"\n",
       "                             ARIMA Model Results                              \n",
       "==============================================================================\n",
       "Dep. Variable:         D.Weekly_Sales   No. Observations:                  106\n",
       "Model:                 ARIMA(2, 1, 3)   Log Likelihood               -1413.628\n",
       "Method:                       css-mle   S.D. of innovations         142936.829\n",
       "Date:                Mon, 22 Jan 2018   AIC                           2841.256\n",
       "Time:                        10:43:38   BIC                           2859.900\n",
       "Sample:                    02-14-2010   HQIC                          2848.812\n",
       "                         - 02-19-2012                                         \n",
       "========================================================================================\n",
       "                           coef    std err          z      P>|z|      [0.025      0.975]\n",
       "----------------------------------------------------------------------------------------\n",
       "const                  573.8008    621.559      0.923      0.358    -644.432    1792.034\n",
       "ar.L1.D.Weekly_Sales    -1.0486      0.090    -11.614      0.000      -1.226      -0.872\n",
       "ar.L2.D.Weekly_Sales    -0.4790      0.088     -5.453      0.000      -0.651      -0.307\n",
       "ma.L1.D.Weekly_Sales     0.4693      0.124      3.788      0.000       0.226       0.712\n",
       "ma.L2.D.Weekly_Sales    -0.4693      0.165     -2.841      0.005      -0.793      -0.146\n",
       "ma.L3.D.Weekly_Sales    -1.0000      0.131     -7.626      0.000      -1.257      -0.743\n",
       "                                    Roots                                    \n",
       "=============================================================================\n",
       "                 Real           Imaginary           Modulus         Frequency\n",
       "-----------------------------------------------------------------------------\n",
       "AR.1           -1.0947           -0.9431j            1.4449           -0.3868\n",
       "AR.2           -1.0947           +0.9431j            1.4449            0.3868\n",
       "MA.1            1.0000           -0.0000j            1.0000           -0.0000\n",
       "MA.2           -0.7347           -0.6784j            1.0000           -0.3813\n",
       "MA.3           -0.7347           +0.6784j            1.0000            0.3813\n",
       "-----------------------------------------------------------------------------\n",
       "\"\"\""
      ]
     },
     "execution_count": 19,
     "metadata": {},
     "output_type": "execute_result"
    }
   ],
   "source": [
    "model = sm.tsa.ARIMA(train, (2, 1, 3)).fit()\n",
    "\n",
    "predictions = model.predict(\n",
    "    '2012-02-27',\n",
    "    '2012-10-29',\n",
    "    dynamic=False, \n",
    "    typ='levels'\n",
    ")\n",
    "\n",
    "print(\"Mean absolute error: \", mean_absolute_error(test, predictions))\n",
    "model.summary()"
   ]
  },
  {
   "cell_type": "code",
   "execution_count": null,
   "metadata": {
    "collapsed": true
   },
   "outputs": [],
   "source": []
  }
 ],
 "metadata": {
  "kernelspec": {
   "display_name": "Python 2",
   "language": "python",
   "name": "python2"
  },
  "language_info": {
   "codemirror_mode": {
    "name": "ipython",
    "version": 2
   },
   "file_extension": ".py",
   "mimetype": "text/x-python",
   "name": "python",
   "nbconvert_exporter": "python",
   "pygments_lexer": "ipython2",
   "version": "2.7.13"
  }
 },
 "nbformat": 4,
 "nbformat_minor": 1
}
